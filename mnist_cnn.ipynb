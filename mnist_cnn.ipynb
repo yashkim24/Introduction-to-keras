{
 "cells": [
  {
   "cell_type": "markdown",
   "metadata": {
    "colab_type": "text",
    "id": "4tebT8VkGpTs"
   },
   "source": [
    "## Problem Definition\n",
    "\n",
    "*Recognize handwritten digits*\n",
    "![](imgs/mnist.png)\n",
    "\n",
    "\n",
    "\n",
    "\n"
   ]
  },
  {
   "cell_type": "markdown",
   "metadata": {
    "colab_type": "text",
    "id": "0CDZyb4JGpTv"
   },
   "source": [
    "## Data\n",
    "\n",
    "The MNIST database ([link](http://yann.lecun.com/exdb/mnist)) has a database of handwritten digits. \n",
    "\n",
    "The training set has $60,000$ samples. \n",
    "\n",
    "The test set has $10,000$ samples.\n",
    "\n",
    "The digits are size-normalized and centered in a fixed-size image. \n",
    "\n",
    "The data page has description on how the data was collected. It also has reports the benchmark of various algorithms on the test dataset. "
   ]
  },
  {
   "cell_type": "markdown",
   "metadata": {
    "colab_type": "text",
    "id": "Sz8jv8Q3GpTw"
   },
   "source": [
    "## Load Data"
   ]
  },
  {
   "cell_type": "code",
   "execution_count": 3,
   "metadata": {
    "colab": {
     "autoexec": {
      "startup": false,
      "wait_interval": 0
     },
     "base_uri": "https://localhost:8080/",
     "height": 35,
     "output_extras": [
      {
       "item_id": 1
      }
     ]
    },
    "colab_type": "code",
    "executionInfo": {
     "elapsed": 2580,
     "status": "ok",
     "timestamp": 1521815454238,
     "user": {
      "displayName": "Yash Kimtani",
      "photoUrl": "https://lh3.googleusercontent.com/a/default-user=s128",
      "userId": "100206100074329707742"
     },
     "user_tz": -330
    },
    "id": "zcaCBAFbD4-E",
    "outputId": "5ec5b3b0-6aed-4b52-aa19-9e26594fb77c"
   },
   "outputs": [
    {
     "name": "stderr",
     "output_type": "stream",
     "text": [
      "Using TensorFlow backend.\n"
     ]
    }
   ],
   "source": [
    "\n",
    "\n",
    "from __future__ import print_function\n",
    "import numpy as np\n",
    "import keras\n",
    "from keras.preprocessing import image\n",
    "from keras.applications.imagenet_utils import preprocess_input\n",
    "from keras.datasets import mnist\n",
    "from keras.layers import Input, Dense, Activation, ZeroPadding2D, BatchNormalization, Flatten, Conv2D\n",
    "from keras.layers import AveragePooling2D, MaxPooling2D, Dropout, GlobalMaxPooling2D, GlobalAveragePooling2D\n",
    "from keras.models import Model\n",
    "from keras import backend as K\n",
    "from matplotlib import pyplot\n",
    "from scipy.misc import imread, imresize\n",
    "from IPython.display import SVG\n",
    "from keras.utils.vis_utils import model_to_dot\n",
    "from keras.utils import plot_model\n",
    "%matplotlib inline\n",
    "\n",
    "batch_size = 128\n",
    "num_classes = 10\n",
    "epochs = 12\n",
    "\n",
    "# input image dimensions\n",
    "img_rows, img_cols = 28, 28"
   ]
  },
  {
   "cell_type": "code",
   "execution_count": 4,
   "metadata": {
    "colab": {
     "autoexec": {
      "startup": false,
      "wait_interval": 0
     },
     "base_uri": "https://localhost:8080/",
     "height": 72,
     "output_extras": [
      {
       "item_id": 1
      }
     ]
    },
    "colab_type": "code",
    "executionInfo": {
     "elapsed": 1890,
     "status": "ok",
     "timestamp": 1521815460175,
     "user": {
      "displayName": "Yash Kimtani",
      "photoUrl": "https://lh3.googleusercontent.com/a/default-user=s128",
      "userId": "100206100074329707742"
     },
     "user_tz": -330
    },
    "id": "5T3J-Z77D4-I",
    "outputId": "42af24ac-f907-4a15-9f53-768e90296911"
   },
   "outputs": [
    {
     "name": "stdout",
     "output_type": "stream",
     "text": [
      "x_train shape: (60000, 28, 28, 1)\n",
      "60000 train samples\n",
      "10000 test samples\n"
     ]
    }
   ],
   "source": [
    "# the data, split between train and test sets\n",
    "(x_train, y_train), (x_test, y_test) = mnist.load_data()\n",
    "\n",
    "if K.image_data_format() == 'channels_first':\n",
    "    x_train = x_train.reshape(x_train.shape[0], 1, img_rows, img_cols)\n",
    "    x_test = x_test.reshape(x_test.shape[0], 1, img_rows, img_cols)\n",
    "    input_shape = (1, img_rows, img_cols)\n",
    "else:\n",
    "    x_train = x_train.reshape(x_train.shape[0], img_rows, img_cols, 1)\n",
    "    x_test = x_test.reshape(x_test.shape[0], img_rows, img_cols, 1)\n",
    "    input_shape = (img_rows, img_cols, 1)\n",
    "\n",
    "# Normalization of data    \n",
    "x_train = x_train.astype('float32')\n",
    "x_test = x_test.astype('float32')\n",
    "x_train /= 255\n",
    "x_test /= 255\n",
    "\n",
    "print('x_train shape:', x_train.shape)\n",
    "print(x_train.shape[0], 'train samples')\n",
    "print(x_test.shape[0], 'test samples')\n",
    "\n",
    "# convert class vectors to binary class matrices\n",
    "y_train = keras.utils.to_categorical(y_train, num_classes)\n",
    "y_test = keras.utils.to_categorical(y_test, num_classes)"
   ]
  },
  {
   "cell_type": "markdown",
   "metadata": {
    "colab_type": "text",
    "id": "Kff-lD74GpUG"
   },
   "source": [
    "### Display Images\n",
    "Let's now display some of the images and see how they look\n",
    "![](imgs/Full_class_mnist.JPG)"
   ]
  },
  {
   "cell_type": "code",
   "execution_count": 5,
   "metadata": {
    "colab": {
     "autoexec": {
      "startup": false,
      "wait_interval": 0
     },
     "base_uri": "https://localhost:8080/",
     "height": 284,
     "output_extras": [
      {
       "item_id": 1
      },
      {
       "item_id": 2
      }
     ]
    },
    "colab_type": "code",
    "executionInfo": {
     "elapsed": 912,
     "status": "ok",
     "timestamp": 1521812668872,
     "user": {
      "displayName": "Yash Kimtani",
      "photoUrl": "https://lh3.googleusercontent.com/a/default-user=s128",
      "userId": "100206100074329707742"
     },
     "user_tz": -330
    },
    "id": "wlRu7uqnGpUH",
    "outputId": "f9d2ad1d-0ec3-4718-d540-08ddb79033fe"
   },
   "outputs": [
    {
     "data": {
      "text/plain": [
       "<matplotlib.image.AxesImage at 0x7f17c5d59ef0>"
      ]
     },
     "execution_count": 5,
     "metadata": {
      "tags": []
     },
     "output_type": "execute_result"
    },
    {
     "data": {
      "image/png": "[encoded data removed]",
      "text/plain": [
       "<matplotlib.figure.Figure at 0x7f17c828e908>"
      ]
     },
     "metadata": {
      "tags": []
     },
     "output_type": "display_data"
    }
   ],
   "source": [
    "plt.imshow(x_train[0].reshape(28, 28))"
   ]
  },
  {
   "cell_type": "code",
   "execution_count": 5,
   "metadata": {
    "colab": {
     "autoexec": {
      "startup": false,
      "wait_interval": 0
     },
     "base_uri": "https://localhost:8080/",
     "height": 53,
     "output_extras": [
      {
       "item_id": 1
      }
     ]
    },
    "colab_type": "code",
    "executionInfo": {
     "elapsed": 1362,
     "status": "ok",
     "timestamp": 1521815471387,
     "user": {
      "displayName": "Yash Kimtani",
      "photoUrl": "https://lh3.googleusercontent.com/a/default-user=s128",
      "userId": "100206100074329707742"
     },
     "user_tz": -330
    },
    "id": "iL36R0_DGpUN",
    "outputId": "f5d7268c-d96b-4669-b121-22119c563941"
   },
   "outputs": [
    {
     "name": "stdout",
     "output_type": "stream",
     "text": [
      "[0 1 2 3 4 5 6 7 8 9]\n",
      "[0 0 0 0 0 1 0 0 0 0]\n"
     ]
    }
   ],
   "source": [
    "print(np.asarray(range(10)))\n",
    "print(y_train[0].astype('int'))"
   ]
  },
  {
   "cell_type": "markdown",
   "metadata": {
    "colab_type": "text",
    "id": "7ERYtio_Ga9q"
   },
   "source": [
    "### Define Model"
   ]
  },
  {
   "cell_type": "code",
   "execution_count": 0,
   "metadata": {
    "colab": {
     "autoexec": {
      "startup": false,
      "wait_interval": 0
     }
    },
    "colab_type": "code",
    "id": "LQAXO2E8D4-N"
   },
   "outputs": [],
   "source": [
    "input_shape=x_train[1].shape\n",
    "X_input = Input(input_shape)\n",
    "X=ZeroPadding2D((3,3))(X_input)\n",
    "X=Conv2D(32,(3,3),strides=(1,1),activation='relu',name='con0')(X)\n",
    "X=MaxPooling2D((2,2),name='max_pooling1')(X)\n",
    "X=Dropout(0.25)(X)\n",
    "X=Conv2D(64,(3,3),strides=(1,1),activation='relu',name='con1')(X)\n",
    "X=MaxPooling2D((2,2),name='max_pooling2')(X)\n",
    "X=Dropout(0.5)(X)\n",
    "X=Flatten()(X)\n",
    "X = Dense(num_classes, activation='softmax',name='fc1')(X)\n",
    "mnist_model=Model(inputs=X_input,name='mnist_model',outputs=X)"
   ]
  },
  {
   "cell_type": "code",
   "execution_count": 46,
   "metadata": {
    "colab": {
     "autoexec": {
      "startup": false,
      "wait_interval": 0
     },
     "base_uri": "https://localhost:8080/",
     "height": 508,
     "output_extras": [
      {
       "item_id": 1
      }
     ]
    },
    "colab_type": "code",
    "executionInfo": {
     "elapsed": 1101,
     "status": "ok",
     "timestamp": 1521817377534,
     "user": {
      "displayName": "Yash Kimtani",
      "photoUrl": "https://lh3.googleusercontent.com/a/default-user=s128",
      "userId": "100206100074329707742"
     },
     "user_tz": -330
    },
    "id": "plmf-ZMwGpUd",
    "outputId": "40a609bd-d89f-4ef0-819a-d5b395ae0363"
   },
   "outputs": [
    {
     "name": "stdout",
     "output_type": "stream",
     "text": [
      "_________________________________________________________________\n",
      "Layer (type)                 Output Shape              Param #   \n",
      "=================================================================\n",
      "input_14 (InputLayer)        (None, 28, 28, 1)         0         \n",
      "_________________________________________________________________\n",
      "zero_padding2d_14 (ZeroPaddi (None, 34, 34, 1)         0         \n",
      "_________________________________________________________________\n",
      "con0 (Conv2D)                (None, 32, 32, 32)        320       \n",
      "_________________________________________________________________\n",
      "max_pooling1 (MaxPooling2D)  (None, 16, 16, 32)        0         \n",
      "_________________________________________________________________\n",
      "dropout_28 (Dropout)         (None, 16, 16, 32)        0         \n",
      "_________________________________________________________________\n",
      "con1 (Conv2D)                (None, 14, 14, 64)        18496     \n",
      "_________________________________________________________________\n",
      "max_pooling2 (MaxPooling2D)  (None, 7, 7, 64)          0         \n",
      "_________________________________________________________________\n",
      "dropout_29 (Dropout)         (None, 7, 7, 64)          0         \n",
      "_________________________________________________________________\n",
      "flatten_14 (Flatten)         (None, 3136)              0         \n",
      "_________________________________________________________________\n",
      "fc1 (Dense)                  (None, 10)                31370     \n",
      "=================================================================\n",
      "Total params: 50,186\n",
      "Trainable params: 50,186\n",
      "Non-trainable params: 0\n",
      "_________________________________________________________________\n"
     ]
    }
   ],
   "source": [
    "mnist_model.summary()"
   ]
  },
  {
   "cell_type": "code",
   "execution_count": 48,
   "metadata": {
    "colab": {
     "autoexec": {
      "startup": false,
      "wait_interval": 0
     },
     "base_uri": "https://localhost:8080/",
     "height": 492,
     "output_extras": [
      {
       "item_id": 37
      },
      {
       "item_id": 77
      },
      {
       "item_id": 129
      },
      {
       "item_id": 172
      },
      {
       "item_id": 183
      }
     ]
    },
    "colab_type": "code",
    "executionInfo": {
     "elapsed": 93834,
     "status": "ok",
     "timestamp": 1521817595606,
     "user": {
      "displayName": "Yash Kimtani",
      "photoUrl": "https://lh3.googleusercontent.com/a/default-user=s128",
      "userId": "100206100074329707742"
     },
     "user_tz": -330
    },
    "id": "Hjwc3ThwGpUf",
    "outputId": "50bae502-0924-4414-f5ae-efe42ce870ef"
   },
   "outputs": [
    {
     "name": "stdout",
     "output_type": "stream",
     "text": [
      "Train on 60000 samples, validate on 10000 samples\n",
      "Epoch 1/12\n",
      "60000/60000 [==============================] - 9s 144us/step - loss: 0.0651 - acc: 0.9807 - val_loss: 0.0314 - val_acc: 0.9900\n",
      "Epoch 2/12\n",
      "60000/60000 [==============================] - 8s 126us/step - loss: 0.0582 - acc: 0.9829 - val_loss: 0.0297 - val_acc: 0.9906\n",
      "Epoch 3/12\n",
      "57088/60000 [===========================>..] - ETA: 0s - loss: 0.0534 - acc: 0.983960000/60000 [==============================] - 8s 126us/step - loss: 0.0540 - acc: 0.9836 - val_loss: 0.0291 - val_acc: 0.9906\n",
      "Epoch 4/12\n",
      "60000/60000 [==============================] - 8s 127us/step - loss: 0.0516 - acc: 0.9837 - val_loss: 0.0287 - val_acc: 0.9917\n",
      "Epoch 5/12\n",
      "60000/60000 [==============================] - 8s 127us/step - loss: 0.0509 - acc: 0.9844 - val_loss: 0.0278 - val_acc: 0.9907\n",
      "Epoch 6/12\n",
      "28928/60000 [=============>................] - ETA: 3s - loss: 0.0481 - acc: 0.985660000/60000 [==============================] - 8s 127us/step - loss: 0.0490 - acc: 0.9853 - val_loss: 0.0266 - val_acc: 0.9910\n",
      "Epoch 7/12\n",
      "60000/60000 [==============================] - 8s 127us/step - loss: 0.0456 - acc: 0.9859 - val_loss: 0.0266 - val_acc: 0.9913\n",
      "Epoch 8/12\n",
      "60000/60000 [==============================] - 8s 127us/step - loss: 0.0466 - acc: 0.9862 - val_loss: 0.0267 - val_acc: 0.9909\n",
      "Epoch 9/12\n",
      "24192/60000 [===========>..................] - ETA: 4s - loss: 0.0426 - acc: 0.986760000/60000 [==============================] - 8s 126us/step - loss: 0.0452 - acc: 0.9861 - val_loss: 0.0261 - val_acc: 0.9917\n",
      "Epoch 10/12\n",
      "60000/60000 [==============================] - 8s 127us/step - loss: 0.0436 - acc: 0.9865 - val_loss: 0.0261 - val_acc: 0.9914\n",
      "Epoch 11/12\n",
      "60000/60000 [==============================] - 8s 127us/step - loss: 0.0439 - acc: 0.9861 - val_loss: 0.0261 - val_acc: 0.9916\n",
      "Epoch 12/12\n",
      "22656/60000 [==========>...................] - ETA: 4s - loss: 0.0396 - acc: 0.987360000/60000 [==============================] - 8s 127us/step - loss: 0.0415 - acc: 0.9870 - val_loss: 0.0262 - val_acc: 0.9913\n"
     ]
    }
   ],
   "source": [
    "#Compile\n",
    "mnist_model.compile(loss=keras.losses.categorical_crossentropy,\n",
    "              optimizer=keras.optimizers.Adadelta(),\n",
    "              metrics=['accuracy'])\n",
    "#training\n",
    "history=mnist_model.fit(x_train, y_train,\n",
    "          batch_size=batch_size,\n",
    "          epochs=epochs,\n",
    "          verbose=1,validation_data=(x_test,y_test))"
   ]
  },
  {
   "cell_type": "code",
   "execution_count": 49,
   "metadata": {
    "colab": {
     "autoexec": {
      "startup": false,
      "wait_interval": 0
     },
     "base_uri": "https://localhost:8080/",
     "height": 72,
     "output_extras": [
      {
       "item_id": 1
      }
     ]
    },
    "colab_type": "code",
    "executionInfo": {
     "elapsed": 4048,
     "status": "ok",
     "timestamp": 1521817609585,
     "user": {
      "displayName": "Yash Kimtani",
      "photoUrl": "https://lh3.googleusercontent.com/a/default-user=s128",
      "userId": "100206100074329707742"
     },
     "user_tz": -330
    },
    "id": "Vb57uyeUGTPc",
    "outputId": "2b2b4c56-a470-472b-fd20-1cdd4ecb1336"
   },
   "outputs": [
    {
     "name": "stdout",
     "output_type": "stream",
     "text": [
      "Test loss: 0.026220980392571074\n",
      "Test accuracy: 0.9913\n",
      "Test Error: 0.87%\n"
     ]
    }
   ],
   "source": [
    "#Evalulate\n",
    "score = mnist_model.evaluate(x_test, y_test, verbose=0)\n",
    "print('Test loss:', score[0])\n",
    "print('Test accuracy:', score[1])\n",
    "print(\"Test Error: %.2f%%\" % (100-score[1]*100))"
   ]
  },
  {
   "cell_type": "code",
   "execution_count": 0,
   "metadata": {
    "colab": {
     "autoexec": {
      "startup": false,
      "wait_interval": 0
     }
    },
    "colab_type": "code",
    "id": "bfn42OhSKP7E"
   },
   "outputs": [],
   "source": [
    "plot_model(mnist_model, to_file='mnist_model.png')\n",
    "SVG(model_to_dot(mnist_model).create(prog='dot', format='svg'))"
   ]
  },
  {
   "cell_type": "markdown",
   "metadata": {
    "colab_type": "text",
    "id": "IaV4XhTrGa-i"
   },
   "source": [
    "<img src=\"imgs/mnist_model.png\" width=\"40%\">"
   ]
  },
  {
   "cell_type": "code",
   "execution_count": 50,
   "metadata": {
    "colab": {
     "autoexec": {
      "startup": false,
      "wait_interval": 0
     },
     "base_uri": "https://localhost:8080/",
     "height": 541,
     "output_extras": [
      {
       "item_id": 1
      },
      {
       "item_id": 2
      }
     ]
    },
    "colab_type": "code",
    "executionInfo": {
     "elapsed": 1316,
     "status": "ok",
     "timestamp": 1521817625728,
     "user": {
      "displayName": "Yash Kimtani",
      "photoUrl": "https://lh3.googleusercontent.com/a/default-user=s128",
      "userId": "100206100074329707742"
     },
     "user_tz": -330
    },
    "id": "3F18FgxMGpUr",
    "outputId": "fd7f7986-b47f-44dd-cacd-7e4de0126685"
   },
   "outputs": [
    {
     "data": {
      "image/png": "[encoded data removed]",
      "text/plain": [
       "<matplotlib.figure.Figure at 0x7fa49c0f3be0>"
      ]
     },
     "metadata": {
      "tags": []
     },
     "output_type": "display_data"
    },
    {
     "data": {
      "image/png": "[encoded data removed]",
      "text/plain": [
       "<matplotlib.figure.Figure at 0x7fa493eadba8>"
      ]
     },
     "metadata": {
      "tags": []
     },
     "output_type": "display_data"
    }
   ],
   "source": [
    "import matplotlib.pyplot as plt\n",
    "%matplotlib inline\n",
    "\n",
    "def plot_history(history):\n",
    "    plt.figure()\n",
    "    plt.xlabel('Epochs')\n",
    "    plt.ylabel('Loss')\n",
    "    plt.plot(history.history['loss'])\n",
    "    plt.plot(history.history['val_loss'])\n",
    "    plt.legend(['Training', 'Validation'])\n",
    "\n",
    "    plt.figure()\n",
    "    plt.xlabel('Epochs')\n",
    "    plt.ylabel('Accuracy')\n",
    "    plt.plot(history.history['acc'])\n",
    "    plt.plot(history.history['val_acc'])\n",
    "    plt.legend(['Training', 'Validation'], loc='lower right')\n",
    "    plt.show()\n",
    "\n",
    "plot_history(history)"
   ]
  },
  {
   "cell_type": "code",
   "execution_count": 56,
   "metadata": {
    "colab": {
     "autoexec": {
      "startup": false,
      "wait_interval": 0
     },
     "base_uri": "https://localhost:8080/",
     "height": 376,
     "output_extras": [
      {
       "item_id": 1
      },
      {
       "item_id": 2
      },
      {
       "item_id": 3
      }
     ]
    },
    "colab_type": "code",
    "executionInfo": {
     "elapsed": 3582,
     "status": "ok",
     "timestamp": 1521815127428,
     "user": {
      "displayName": "Yash Kimtani",
      "photoUrl": "https://lh3.googleusercontent.com/a/default-user=s128",
      "userId": "100206100074329707742"
     },
     "user_tz": -330
    },
    "id": "A6bZCpUGHDv2",
    "outputId": "ba770a2a-aa94-4407-dfbf-2416ceea79fb"
   },
   "outputs": [
    {
     "name": "stdout",
     "output_type": "stream",
     "text": [
      "y= 4\n"
     ]
    },
    {
     "name": "stderr",
     "output_type": "stream",
     "text": [
      "/usr/local/lib/python3.6/dist-packages/scipy/misc/pilutil.py:482: FutureWarning: Conversion of the second argument of issubdtype from `int` to `np.signedinteger` is deprecated. In future, it will be treated as `np.int64 == np.dtype(int).type`.\n",
      "  if issubdtype(ts, int):\n",
      "/usr/local/lib/python3.6/dist-packages/scipy/misc/pilutil.py:485: FutureWarning: Conversion of the second argument of issubdtype from `float` to `np.floating` is deprecated. In future, it will be treated as `np.float64 == np.dtype(float).type`.\n",
      "  elif issubdtype(type(size), float):\n"
     ]
    },
    {
     "data": {
      "image/png": "[encoded data removed]",
      "text/plain": [
       "<matplotlib.figure.Figure at 0x7f17bea93550>"
      ]
     },
     "metadata": {
      "tags": []
     },
     "output_type": "display_data"
    }
   ],
   "source": [
    "#predict\n",
    "x = imread('digit_minst.png',mode='L')\n",
    "#compute a bit-wise inversion so black becomes white and vice versa\n",
    "x = np.invert(x)\n",
    "#make it the right size\n",
    "x = imresize(x,(28,28))\n",
    "pyplot.imshow(x)\n",
    "#convert to a 4D tensor to feed into our model\n",
    "x = x.reshape(1,28,28,1)\n",
    "x = x.astype('float32')\n",
    "x /= 255\n",
    "\n",
    "#perform the prediction\n",
    "out = mnist_model.predict(x)\n",
    "print('y=',np.argmax(out))"
   ]
  },
  {
   "cell_type": "markdown",
   "metadata": {
    "colab_type": "text",
    "id": "ZRBNIKYsGpUu"
   },
   "source": [
    "## Save Model\n",
    "You can use model.save(filepath) to save a Keras model into a single HDF5 file which will contain:\n",
    "\n",
    "    the architecture of the model, allowing to re-create the model\n",
    "    the weights of the model\n",
    "    the training configuration (loss, optimizer)\n",
    "    the state of the optimizer, allowing to resume training exactly where you left off.\n",
    "\n",
    "You can then use keras.models.load_model(filepath) to reinstantiate your model. load_model will also take care of compiling the model using the saved training configuration (unless the model was never compiled in the first place)."
   ]
  },
  {
   "cell_type": "code",
   "execution_count": 0,
   "metadata": {
    "colab": {
     "autoexec": {
      "startup": false,
      "wait_interval": 0
     }
    },
    "colab_type": "code",
    "id": "bVod95JLGpUv"
   },
   "outputs": [],
   "source": [
    "from keras.models import load_model\n",
    "\n",
    "mnist_model.save('my_mnist_model.h5')  # creates a HDF5 file 'my_model.h5'\n",
    "del mnist_model  # deletes the existing model\n",
    "\n",
    "# returns a compiled model\n",
    "# identical to the previous one\n",
    "model = load_model('my_mnist_model.h5')"
   ]
  }
 ],
 "metadata": {
  "accelerator": "GPU",
  "colab": {
   "default_view": {},
   "name": "mnist_cnn.ipynb",
   "provenance": [
    {
     "file_id": "1DUkt5y59LynDDXzDhzeIk_oej1s3mOXZ",
     "timestamp": 1521661707135
    }
   ],
   "version": "0.3.2",
   "views": {}
  },
  "kernelspec": {
   "display_name": "Python 3",
   "language": "python",
   "name": "python3"
  },
  "language_info": {
   "codemirror_mode": {
    "name": "ipython",
    "version": 3
   },
   "file_extension": ".py",
   "mimetype": "text/x-python",
   "name": "python",
   "nbconvert_exporter": "python",
   "pygments_lexer": "ipython3",
   "version": "3.5.4"
  },
  "latex_envs": {
   "LaTeX_envs_menu_present": true,
   "autoclose": false,
   "autocomplete": true,
   "bibliofile": "biblio.bib",
   "cite_by": "apalike",
   "current_citInitial": 1,
   "eqLabelWithNumbers": true,
   "eqNumInitial": 1,
   "hotkeys": {
    "equation": "Ctrl-E",
    "itemize": "Ctrl-I"
   },
   "labels_anchors": false,
   "latex_user_defs": false,
   "report_style_numbering": false,
   "user_envs_cfg": false
  }
 },
 "nbformat": 4,
 "nbformat_minor": 1
}
