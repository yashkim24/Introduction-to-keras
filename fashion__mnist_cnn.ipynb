{
 "cells": [
  {
   "cell_type": "markdown",
   "metadata": {
    "colab_type": "text",
    "id": "4tebT8VkGpTs"
   },
   "source": [
    "## Problem Definition\n",
    "\n",
    "*Recognize clothes*\n",
    "\n",
    "<img src=\"imgs/labels_table.png\" width=\"20%\"> <img src=\"imgs/fashion1.png\" width=\"40%\">                                                                                                                        "
   ]
  },
  {
   "cell_type": "markdown",
   "metadata": {
    "colab_type": "text",
    "id": "0CDZyb4JGpTv"
   },
   "source": [
    "## Data\n",
    "The Fashion MNIST training set contains 60,000 examples, and the test set contains 10,000 examples.\n",
    "\n",
    "Each example is a 28x28 grayscale image (just like the images in the original MNIST), associated with a label from 10 classes (t-shirts, trousers, pullovers, dresses, coats, sandals, shirts, sneakers, bags, and ankle boots)\n"
   ]
  },
  {
   "cell_type": "markdown",
   "metadata": {
    "colab_type": "text",
    "id": "Sz8jv8Q3GpTw"
   },
   "source": [
    "## Load Data"
   ]
  },
  {
   "cell_type": "code",
   "execution_count": 0,
   "metadata": {
    "colab": {
     "autoexec": {
      "startup": false,
      "wait_interval": 0
     }
    },
    "colab_type": "code",
    "id": "zcaCBAFbD4-E"
   },
   "outputs": [],
   "source": [
    "\n",
    "\n",
    "from __future__ import print_function\n",
    "import numpy as np\n",
    "import keras\n",
    "from keras.preprocessing import image\n",
    "from keras.applications.imagenet_utils import preprocess_input\n",
    "from keras.datasets import fashion_mnist\n",
    "from keras.layers import Input, Dense, Activation, ZeroPadding2D, BatchNormalization, Flatten, Conv2D\n",
    "from keras.layers import AveragePooling2D, MaxPooling2D, Dropout, GlobalMaxPooling2D, GlobalAveragePooling2D\n",
    "from keras.models import Model\n",
    "from keras import backend as K\n",
    "from matplotlib import pyplot\n",
    "from scipy.misc import imread, imresize\n",
    "from IPython.display import SVG\n",
    "from keras.utils.vis_utils import model_to_dot\n",
    "from keras.utils import plot_model\n",
    "%matplotlib inline\n",
    "\n",
    "batch_size = 128\n",
    "num_classes = 10\n",
    "epochs = 12\n",
    "\n",
    "# input image dimensions\n",
    "img_rows, img_cols = 28, 28"
   ]
  },
  {
   "cell_type": "code",
   "execution_count": 53,
   "metadata": {
    "colab": {
     "autoexec": {
      "startup": false,
      "wait_interval": 0
     },
     "base_uri": "https://localhost:8080/",
     "height": 217,
     "output_extras": [
      {
       "item_id": 32
      }
     ]
    },
    "colab_type": "code",
    "executionInfo": {
     "elapsed": 12207,
     "status": "ok",
     "timestamp": 1521825326529,
     "user": {
      "displayName": "Yash Kimtani",
      "photoUrl": "https://lh3.googleusercontent.com/a/default-user=s128",
      "userId": "100206100074329707742"
     },
     "user_tz": -330
    },
    "id": "5T3J-Z77D4-I",
    "outputId": "27d289b7-0584-4770-cc7a-3cabab5289dc"
   },
   "outputs": [
    {
     "name": "stdout",
     "output_type": "stream",
     "text": [
      "Downloading data from http://fashion-mnist.s3-website.eu-central-1.amazonaws.com/train-labels-idx1-ubyte.gz\n",
      "32768/29515 [=================================] - 0s 3us/step\n",
      "Downloading data from http://fashion-mnist.s3-website.eu-central-1.amazonaws.com/train-images-idx3-ubyte.gz\n",
      "26427392/26421880 [==============================] - 6s 0us/step\n",
      "Downloading data from http://fashion-mnist.s3-website.eu-central-1.amazonaws.com/t10k-labels-idx1-ubyte.gz\n",
      "8192/5148 [===============================================] - 0s 0us/step\n",
      "Downloading data from http://fashion-mnist.s3-website.eu-central-1.amazonaws.com/t10k-images-idx3-ubyte.gz\n",
      "4423680/4422102 [==============================] - 3s 1us/step\n",
      "x_train shape: (60000, 28, 28, 1)\n",
      "60000 train samples\n",
      "10000 test samples\n"
     ]
    }
   ],
   "source": [
    "# the data, split between train and test sets\n",
    "(x_train, y_train), (x_test, y_test) = fashion_mnist.load_data()\n",
    "\n",
    "if K.image_data_format() == 'channels_first':\n",
    "    x_train = x_train.reshape(x_train.shape[0], 1, img_rows, img_cols)\n",
    "    x_test = x_test.reshape(x_test.shape[0], 1, img_rows, img_cols)\n",
    "    input_shape = (1, img_rows, img_cols)\n",
    "else:\n",
    "    x_train = x_train.reshape(x_train.shape[0], img_rows, img_cols, 1)\n",
    "    x_test = x_test.reshape(x_test.shape[0], img_rows, img_cols, 1)\n",
    "    input_shape = (img_rows, img_cols, 1)\n",
    "\n",
    "# Normalization of data    \n",
    "x_train = x_train.astype('float32')\n",
    "x_test = x_test.astype('float32')\n",
    "x_train /= 255\n",
    "x_test /= 255\n",
    "\n",
    "print('x_train shape:', x_train.shape)\n",
    "print(x_train.shape[0], 'train samples')\n",
    "print(x_test.shape[0], 'test samples')\n",
    "\n",
    "# convert class vectors to binary class matrices\n",
    "y_train = keras.utils.to_categorical(y_train, num_classes)\n",
    "y_test = keras.utils.to_categorical(y_test, num_classes)"
   ]
  },
  {
   "cell_type": "code",
   "execution_count": 54,
   "metadata": {
    "colab": {
     "autoexec": {
      "startup": false,
      "wait_interval": 0
     },
     "base_uri": "https://localhost:8080/",
     "height": 283,
     "output_extras": [
      {
       "item_id": 1
      },
      {
       "item_id": 2
      }
     ]
    },
    "colab_type": "code",
    "executionInfo": {
     "elapsed": 673,
     "status": "ok",
     "timestamp": 1521825332152,
     "user": {
      "displayName": "Yash Kimtani",
      "photoUrl": "https://lh3.googleusercontent.com/a/default-user=s128",
      "userId": "100206100074329707742"
     },
     "user_tz": -330
    },
    "id": "wlRu7uqnGpUH",
    "outputId": "b63247d5-dd74-4dd3-88d8-97397cebd193"
   },
   "outputs": [
    {
     "data": {
      "text/plain": [
       "<matplotlib.image.AxesImage at 0x7fa493de6f60>"
      ]
     },
     "execution_count": 54,
     "metadata": {
      "tags": []
     },
     "output_type": "execute_result"
    },
    {
     "data": {
      "image/png": "[encoded data removed]",
      "text/plain": [
       "<matplotlib.figure.Figure at 0x7fa493dd2dd8>"
      ]
     },
     "metadata": {
      "tags": []
     },
     "output_type": "display_data"
    }
   ],
   "source": [
    "plt.imshow(x_train[0].reshape(28, 28))"
   ]
  },
  {
   "cell_type": "code",
   "execution_count": 55,
   "metadata": {
    "colab": {
     "autoexec": {
      "startup": false,
      "wait_interval": 0
     },
     "base_uri": "https://localhost:8080/",
     "height": 53,
     "output_extras": [
      {
       "item_id": 1
      }
     ]
    },
    "colab_type": "code",
    "executionInfo": {
     "elapsed": 998,
     "status": "ok",
     "timestamp": 1521825346530,
     "user": {
      "displayName": "Yash Kimtani",
      "photoUrl": "https://lh3.googleusercontent.com/a/default-user=s128",
      "userId": "100206100074329707742"
     },
     "user_tz": -330
    },
    "id": "iL36R0_DGpUN",
    "outputId": "97321ae2-c4f9-4e12-ecba-b526c48f30bf"
   },
   "outputs": [
    {
     "name": "stdout",
     "output_type": "stream",
     "text": [
      "[0 1 2 3 4 5 6 7 8 9]\n",
      "[0 0 0 0 0 0 0 0 0 1]\n"
     ]
    }
   ],
   "source": [
    "print(np.asarray(range(10)))\n",
    "print(y_train[0].astype('int'))"
   ]
  },
  {
   "cell_type": "markdown",
   "metadata": {
    "colab_type": "text",
    "id": "7ERYtio_Ga9q"
   },
   "source": [
    "### Define Model"
   ]
  },
  {
   "cell_type": "code",
   "execution_count": 0,
   "metadata": {
    "colab": {
     "autoexec": {
      "startup": false,
      "wait_interval": 0
     }
    },
    "colab_type": "code",
    "id": "LQAXO2E8D4-N"
   },
   "outputs": [],
   "source": [
    "input_shape=x_train[1].shape\n",
    "X_input = Input(input_shape)\n",
    "X=ZeroPadding2D((3,3))(X_input)\n",
    "X=Conv2D(32,(3,3),strides=(1,1),activation='relu',name='con0')(X)\n",
    "X=MaxPooling2D((2,2),name='max_pooling1')(X)\n",
    "X=Dropout(0.25)(X)\n",
    "X=Conv2D(64,(3,3),strides=(1,1),activation='relu',name='con1')(X)\n",
    "X=MaxPooling2D((2,2),name='max_pooling2')(X)\n",
    "X=Dropout(0.5)(X)\n",
    "X=Flatten()(X)\n",
    "X = Dense(num_classes, activation='softmax',name='fc1')(X)\n",
    "mnist_model=Model(inputs=X_input,name='mnist_model',outputs=X)"
   ]
  },
  {
   "cell_type": "code",
   "execution_count": 57,
   "metadata": {
    "colab": {
     "autoexec": {
      "startup": false,
      "wait_interval": 0
     },
     "base_uri": "https://localhost:8080/",
     "height": 508,
     "output_extras": [
      {
       "item_id": 1
      }
     ]
    },
    "colab_type": "code",
    "executionInfo": {
     "elapsed": 801,
     "status": "ok",
     "timestamp": 1521825363330,
     "user": {
      "displayName": "Yash Kimtani",
      "photoUrl": "https://lh3.googleusercontent.com/a/default-user=s128",
      "userId": "100206100074329707742"
     },
     "user_tz": -330
    },
    "id": "plmf-ZMwGpUd",
    "outputId": "1d3d3bec-c776-40c7-9490-8f5984eda738"
   },
   "outputs": [
    {
     "name": "stdout",
     "output_type": "stream",
     "text": [
      "_________________________________________________________________\n",
      "Layer (type)                 Output Shape              Param #   \n",
      "=================================================================\n",
      "input_15 (InputLayer)        (None, 28, 28, 1)         0         \n",
      "_________________________________________________________________\n",
      "zero_padding2d_15 (ZeroPaddi (None, 34, 34, 1)         0         \n",
      "_________________________________________________________________\n",
      "con0 (Conv2D)                (None, 32, 32, 32)        320       \n",
      "_________________________________________________________________\n",
      "max_pooling1 (MaxPooling2D)  (None, 16, 16, 32)        0         \n",
      "_________________________________________________________________\n",
      "dropout_30 (Dropout)         (None, 16, 16, 32)        0         \n",
      "_________________________________________________________________\n",
      "con1 (Conv2D)                (None, 14, 14, 64)        18496     \n",
      "_________________________________________________________________\n",
      "max_pooling2 (MaxPooling2D)  (None, 7, 7, 64)          0         \n",
      "_________________________________________________________________\n",
      "dropout_31 (Dropout)         (None, 7, 7, 64)          0         \n",
      "_________________________________________________________________\n",
      "flatten_15 (Flatten)         (None, 3136)              0         \n",
      "_________________________________________________________________\n",
      "fc1 (Dense)                  (None, 10)                31370     \n",
      "=================================================================\n",
      "Total params: 50,186\n",
      "Trainable params: 50,186\n",
      "Non-trainable params: 0\n",
      "_________________________________________________________________\n"
     ]
    }
   ],
   "source": [
    "mnist_model.summary()"
   ]
  },
  {
   "cell_type": "code",
   "execution_count": 58,
   "metadata": {
    "colab": {
     "autoexec": {
      "startup": false,
      "wait_interval": 0
     },
     "base_uri": "https://localhost:8080/",
     "height": 492,
     "output_extras": [
      {
       "item_id": 66
      },
      {
       "item_id": 76
      },
      {
       "item_id": 98
      },
      {
       "item_id": 141
      },
      {
       "item_id": 155
      }
     ]
    },
    "colab_type": "code",
    "executionInfo": {
     "elapsed": 94250,
     "status": "ok",
     "timestamp": 1521825460880,
     "user": {
      "displayName": "Yash Kimtani",
      "photoUrl": "https://lh3.googleusercontent.com/a/default-user=s128",
      "userId": "100206100074329707742"
     },
     "user_tz": -330
    },
    "id": "Hjwc3ThwGpUf",
    "outputId": "6da8d1de-c7b2-4792-eecf-f84c92c5f30c"
   },
   "outputs": [
    {
     "name": "stdout",
     "output_type": "stream",
     "text": [
      "Train on 60000 samples, validate on 10000 samples\n",
      "Epoch 1/12\n",
      "60000/60000 [==============================] - 9s 148us/step - loss: 0.6211 - acc: 0.7767 - val_loss: 0.4220 - val_acc: 0.8512\n",
      "Epoch 2/12\n",
      "60000/60000 [==============================] - 8s 128us/step - loss: 0.4114 - acc: 0.8536 - val_loss: 0.3595 - val_acc: 0.8765\n",
      "Epoch 3/12\n",
      "55808/60000 [==========================>...] - ETA: 0s - loss: 0.3698 - acc: 0.869360000/60000 [==============================] - 8s 128us/step - loss: 0.3692 - acc: 0.8689 - val_loss: 0.3319 - val_acc: 0.8822\n",
      "Epoch 4/12\n",
      "60000/60000 [==============================] - 8s 128us/step - loss: 0.3398 - acc: 0.8799 - val_loss: 0.3273 - val_acc: 0.8849\n",
      "Epoch 5/12\n",
      "60000/60000 [==============================] - 8s 127us/step - loss: 0.3218 - acc: 0.8863 - val_loss: 0.2994 - val_acc: 0.8946\n",
      "Epoch 6/12\n",
      "29440/60000 [=============>................] - ETA: 3s - loss: 0.3035 - acc: 0.891560000/60000 [==============================] - 8s 128us/step - loss: 0.3054 - acc: 0.8920 - val_loss: 0.2941 - val_acc: 0.8980\n",
      "Epoch 7/12\n",
      "60000/60000 [==============================] - 8s 128us/step - loss: 0.2931 - acc: 0.8953 - val_loss: 0.2946 - val_acc: 0.8981\n",
      "Epoch 8/12\n",
      "60000/60000 [==============================] - 8s 128us/step - loss: 0.2888 - acc: 0.8974 - val_loss: 0.2721 - val_acc: 0.9072\n",
      "Epoch 9/12\n",
      "24064/60000 [===========>..................] - ETA: 4s - loss: 0.2683 - acc: 0.906360000/60000 [==============================] - 8s 127us/step - loss: 0.2779 - acc: 0.9021 - val_loss: 0.2660 - val_acc: 0.9087\n",
      "Epoch 10/12\n",
      "60000/60000 [==============================] - 8s 127us/step - loss: 0.2748 - acc: 0.9021 - val_loss: 0.2696 - val_acc: 0.9056\n",
      "Epoch 11/12\n",
      "60000/60000 [==============================] - 8s 127us/step - loss: 0.2713 - acc: 0.9038 - val_loss: 0.2561 - val_acc: 0.9097\n",
      "Epoch 12/12\n",
      "22400/60000 [==========>...................] - ETA: 4s - loss: 0.2646 - acc: 0.906560000/60000 [==============================] - 8s 128us/step - loss: 0.2656 - acc: 0.9051 - val_loss: 0.2543 - val_acc: 0.9107\n"
     ]
    }
   ],
   "source": [
    "#Compile\n",
    "mnist_model.compile(loss=keras.losses.categorical_crossentropy,\n",
    "              optimizer=keras.optimizers.Adadelta(),\n",
    "              metrics=['accuracy'])\n",
    "#training\n",
    "history=mnist_model.fit(x_train, y_train,\n",
    "          batch_size=batch_size,\n",
    "          epochs=epochs,\n",
    "          verbose=1,validation_data=(x_test,y_test))"
   ]
  },
  {
   "cell_type": "code",
   "execution_count": 60,
   "metadata": {
    "colab": {
     "autoexec": {
      "startup": false,
      "wait_interval": 0
     },
     "base_uri": "https://localhost:8080/",
     "height": 72,
     "output_extras": [
      {
       "item_id": 1
      }
     ]
    },
    "colab_type": "code",
    "executionInfo": {
     "elapsed": 1756,
     "status": "ok",
     "timestamp": 1521825765841,
     "user": {
      "displayName": "Yash Kimtani",
      "photoUrl": "https://lh3.googleusercontent.com/a/default-user=s128",
      "userId": "100206100074329707742"
     },
     "user_tz": -330
    },
    "id": "Vb57uyeUGTPc",
    "outputId": "8faf18b8-a1b5-449f-f3fb-afb1397e772b"
   },
   "outputs": [
    {
     "name": "stdout",
     "output_type": "stream",
     "text": [
      "Test loss: 0.25426251326799393\n",
      "Test accuracy: 0.9107\n",
      "Test Error: 8.93%\n"
     ]
    }
   ],
   "source": [
    "#Evalulate\n",
    "score = mnist_model.evaluate(x_test, y_test, verbose=0)\n",
    "print('Test loss:', score[0])\n",
    "print('Test accuracy:', score[1])\n",
    "print(\"Test Error: %.2f%%\" % (100-score[1]*100))"
   ]
  },
  {
   "cell_type": "code",
   "execution_count": 0,
   "metadata": {
    "colab": {
     "autoexec": {
      "startup": false,
      "wait_interval": 0
     }
    },
    "colab_type": "code",
    "id": "bfn42OhSKP7E"
   },
   "outputs": [],
   "source": [
    "plot_model(mnist_model, to_file='mnist_model.png')\n",
    "SVG(model_to_dot(mnist_model).create(prog='dot', format='svg'))"
   ]
  },
  {
   "cell_type": "markdown",
   "metadata": {
    "colab_type": "text",
    "id": "IaV4XhTrGa-i"
   },
   "source": [
    "<img src=\"imgs/mnist_model.png\" width=\"40%\">"
   ]
  },
  {
   "cell_type": "code",
   "execution_count": 61,
   "metadata": {
    "colab": {
     "autoexec": {
      "startup": false,
      "wait_interval": 0
     },
     "base_uri": "https://localhost:8080/",
     "height": 541,
     "output_extras": [
      {
       "item_id": 1
      },
      {
       "item_id": 2
      }
     ]
    },
    "colab_type": "code",
    "executionInfo": {
     "elapsed": 1741,
     "status": "ok",
     "timestamp": 1521825774297,
     "user": {
      "displayName": "Yash Kimtani",
      "photoUrl": "https://lh3.googleusercontent.com/a/default-user=s128",
      "userId": "100206100074329707742"
     },
     "user_tz": -330
    },
    "id": "3F18FgxMGpUr",
    "outputId": "d824b754-7696-45a6-bc49-255c5214e6e8"
   },
   "outputs": [
    {
     "data": {
      "image/png": "[encoded data removed]",
      "text/plain": [
       "<matplotlib.figure.Figure at 0x7fa493e166d8>"
      ]
     },
     "metadata": {
      "tags": []
     },
     "output_type": "display_data"
    },
    {
     "data": {
      "image/png": "[encoded data removed]",
      "text/plain": [
       "<matplotlib.figure.Figure at 0x7fa49330b208>"
      ]
     },
     "metadata": {
      "tags": []
     },
     "output_type": "display_data"
    }
   ],
   "source": [
    "import matplotlib.pyplot as plt\n",
    "%matplotlib inline\n",
    "\n",
    "def plot_history(history):\n",
    "    plt.figure()\n",
    "    plt.xlabel('Epochs')\n",
    "    plt.ylabel('Loss')\n",
    "    plt.plot(history.history['loss'])\n",
    "    plt.plot(history.history['val_loss'])\n",
    "    plt.legend(['Training', 'Validation'])\n",
    "\n",
    "    plt.figure()\n",
    "    plt.xlabel('Epochs')\n",
    "    plt.ylabel('Accuracy')\n",
    "    plt.plot(history.history['acc'])\n",
    "    plt.plot(history.history['val_acc'])\n",
    "    plt.legend(['Training', 'Validation'], loc='lower right')\n",
    "    plt.show()\n",
    "\n",
    "plot_history(history)"
   ]
  },
  {
   "cell_type": "code",
   "execution_count": 62,
   "metadata": {
    "colab": {
     "autoexec": {
      "startup": false,
      "wait_interval": 0
     },
     "base_uri": "https://localhost:8080/",
     "height": 376,
     "output_extras": [
      {
       "item_id": 1
      },
      {
       "item_id": 2
      },
      {
       "item_id": 3
      }
     ]
    },
    "colab_type": "code",
    "executionInfo": {
     "elapsed": 1441,
     "status": "ok",
     "timestamp": 1521825821052,
     "user": {
      "displayName": "Yash Kimtani",
      "photoUrl": "https://lh3.googleusercontent.com/a/default-user=s128",
      "userId": "100206100074329707742"
     },
     "user_tz": -330
    },
    "id": "A6bZCpUGHDv2",
    "outputId": "52a904dd-a87c-482d-edf7-2336d898de1f"
   },
   "outputs": [
    {
     "name": "stderr",
     "output_type": "stream",
     "text": [
      "/usr/local/lib/python3.6/dist-packages/scipy/misc/pilutil.py:482: FutureWarning: Conversion of the second argument of issubdtype from `int` to `np.signedinteger` is deprecated. In future, it will be treated as `np.int64 == np.dtype(int).type`.\n",
      "  if issubdtype(ts, int):\n",
      "/usr/local/lib/python3.6/dist-packages/scipy/misc/pilutil.py:485: FutureWarning: Conversion of the second argument of issubdtype from `float` to `np.floating` is deprecated. In future, it will be treated as `np.float64 == np.dtype(float).type`.\n",
      "  elif issubdtype(type(size), float):\n"
     ]
    },
    {
     "name": "stdout",
     "output_type": "stream",
     "text": [
      "y= 0\n"
     ]
    },
    {
     "data": {
      "image/png": "[encoded data removed]",
      "text/plain": [
       "<matplotlib.figure.Figure at 0x7fa49330b710>"
      ]
     },
     "metadata": {
      "tags": []
     },
     "output_type": "display_data"
    }
   ],
   "source": [
    "\n",
    "x = imread('t-shirt.jpg',mode='L')\n",
    "#compute a bit-wise inversion so black becomes white and vice versa\n",
    "x = np.invert(x)\n",
    "#make it the right size\n",
    "x = imresize(x,(28,28))\n",
    "pyplot.imshow(x)\n",
    "#convert to a 4D tensor to feed into our model\n",
    "x = x.reshape(1,28,28,1)\n",
    "x = x.astype('float32')\n",
    "x /= 255\n",
    "\n",
    "#perform the prediction\n",
    "out = mnist_model.predict(x)\n",
    "print('y=',np.argmax(out))"
   ]
  },
  {
   "cell_type": "markdown",
   "metadata": {
    "colab_type": "text",
    "id": "ZRBNIKYsGpUu"
   },
   "source": [
    "## Save Model\n",
    "You can use model.save(filepath) to save a Keras model into a single HDF5 file which will contain:\n",
    "\n",
    "    the architecture of the model, allowing to re-create the model\n",
    "    the weights of the model\n",
    "    the training configuration (loss, optimizer)\n",
    "    the state of the optimizer, allowing to resume training exactly where you left off.\n",
    "\n",
    "You can then use keras.models.load_model(filepath) to reinstantiate your model. load_model will also take care of compiling the model using the saved training configuration (unless the model was never compiled in the first place)."
   ]
  },
  {
   "cell_type": "code",
   "execution_count": 0,
   "metadata": {
    "colab": {
     "autoexec": {
      "startup": false,
      "wait_interval": 0
     }
    },
    "colab_type": "code",
    "id": "bVod95JLGpUv"
   },
   "outputs": [],
   "source": [
    "from keras.models import load_model\n",
    "\n",
    "mnist_model.save('my_fashion_mnist_model.h5')  # creates a HDF5 file 'my_model.h5'\n",
    "del mnist_model  # deletes the existing model\n",
    "\n",
    "# returns a compiled model\n",
    "# identical to the previous one\n",
    "model = load_model('my_fashion_mnist_model.h5')"
   ]
  }
 ],
 "metadata": {
  "accelerator": "GPU",
  "colab": {
   "default_view": {},
   "name": "fashion_ mnist_cnn.ipynb",
   "provenance": [
    {
     "file_id": "1DUkt5y59LynDDXzDhzeIk_oej1s3mOXZ",
     "timestamp": 1521661707135
    }
   ],
   "version": "0.3.2",
   "views": {}
  },
  "kernelspec": {
   "display_name": "Python 3",
   "language": "python",
   "name": "python3"
  },
  "language_info": {
   "codemirror_mode": {
    "name": "ipython",
    "version": 3
   },
   "file_extension": ".py",
   "mimetype": "text/x-python",
   "name": "python",
   "nbconvert_exporter": "python",
   "pygments_lexer": "ipython3",
   "version": "3.5.4"
  },
  "latex_envs": {
   "LaTeX_envs_menu_present": true,
   "autoclose": false,
   "autocomplete": true,
   "bibliofile": "biblio.bib",
   "cite_by": "apalike",
   "current_citInitial": 1,
   "eqLabelWithNumbers": true,
   "eqNumInitial": 1,
   "hotkeys": {
    "equation": "Ctrl-E",
    "itemize": "Ctrl-I"
   },
   "labels_anchors": false,
   "latex_user_defs": false,
   "report_style_numbering": false,
   "user_envs_cfg": false
  }
 },
 "nbformat": 4,
 "nbformat_minor": 1
}
